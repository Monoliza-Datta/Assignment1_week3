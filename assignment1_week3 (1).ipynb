{
 "cells": [
  {
   "cell_type": "code",
   "execution_count": null,
   "id": "c18bdd1c-9010-4619-8a39-54610618c71b",
   "metadata": {},
   "outputs": [],
   "source": [
    "#Q1. Which keyword is used to create a function? Create a function to return a list of odd numbers in the range of 1 to 25."
   ]
  },
  {
   "cell_type": "code",
   "execution_count": null,
   "id": "016c6ed2-98bd-4365-a507-f8171377d77a",
   "metadata": {},
   "outputs": [],
   "source": [
    "#solution1:"
   ]
  },
  {
   "cell_type": "code",
   "execution_count": 15,
   "id": "2eab1316-95b0-4168-9ae3-dfcac0152df7",
   "metadata": {},
   "outputs": [],
   "source": [
    "## def keyword is used to create a function"
   ]
  },
  {
   "cell_type": "code",
   "execution_count": 18,
   "id": "9abf4636-5db6-4843-872a-d03b166af881",
   "metadata": {},
   "outputs": [],
   "source": [
    "l = [1,2,3,4,5,6,7,8,9,10,11,12,13,14,15,16,17,18,19,20,21,22,23,24,25]"
   ]
  },
  {
   "cell_type": "code",
   "execution_count": 19,
   "id": "f54fed41-bef6-4610-a68d-fa01b8db9bc9",
   "metadata": {},
   "outputs": [],
   "source": [
    "def test(l):\n",
    "    l1 = []\n",
    "    for i in l:\n",
    "        if i%2 != 0:\n",
    "            l1.append(i)\n",
    "    return l1"
   ]
  },
  {
   "cell_type": "code",
   "execution_count": 20,
   "id": "65f50251-bcb2-402d-8751-cd92311c7f42",
   "metadata": {},
   "outputs": [
    {
     "data": {
      "text/plain": [
       "[1, 3, 5, 7, 9, 11, 13, 15, 17, 19, 21, 23, 25]"
      ]
     },
     "execution_count": 20,
     "metadata": {},
     "output_type": "execute_result"
    }
   ],
   "source": [
    "test(l)"
   ]
  },
  {
   "cell_type": "code",
   "execution_count": null,
   "id": "85c97c8f-5cc7-42e3-9e67-0a70f939235a",
   "metadata": {},
   "outputs": [],
   "source": []
  },
  {
   "cell_type": "code",
   "execution_count": null,
   "id": "92d9079d-869f-4ab2-8178-f04ca8c5e61b",
   "metadata": {},
   "outputs": [],
   "source": [
    "#Q2. Why *args and **kwargs is used in some functions? Create a function each for *args and **kwargs to demonstrate their use."
   ]
  },
  {
   "cell_type": "code",
   "execution_count": null,
   "id": "eebac71e-9e3d-4026-84e0-3f29dd56f974",
   "metadata": {},
   "outputs": [],
   "source": [
    "#solution2:"
   ]
  },
  {
   "cell_type": "code",
   "execution_count": null,
   "id": "37f39c71-5168-4bc8-93ad-63cca86e28a7",
   "metadata": {},
   "outputs": [],
   "source": [
    "##  *args passes variable number of non-keyworded arguments and on which operation of the tuple can be performed. \n",
    "##  **kwargs passes variable number of keyword arguments dictionary to function on which operation of a dictionary can be performed. \n"
   ]
  },
  {
   "cell_type": "code",
   "execution_count": 25,
   "id": "b574f975-dcd1-4c4c-bbbb-2dd65af530fe",
   "metadata": {},
   "outputs": [],
   "source": [
    "def test1(*args):\n",
    "    return args"
   ]
  },
  {
   "cell_type": "code",
   "execution_count": 26,
   "id": "d19188b2-fe6f-445d-9174-c624548bf021",
   "metadata": {},
   "outputs": [
    {
     "data": {
      "text/plain": [
       "('monoliza', 'datta', [1, 2, 3], 4, 5)"
      ]
     },
     "execution_count": 26,
     "metadata": {},
     "output_type": "execute_result"
    }
   ],
   "source": [
    "test1(\"monoliza\", \"datta\",[1,2,3,],4,5)"
   ]
  },
  {
   "cell_type": "code",
   "execution_count": 29,
   "id": "720145f6-b7d5-4de2-9245-7fac817bdb4a",
   "metadata": {},
   "outputs": [],
   "source": [
    "def test2(**kwargs):      \n",
    "    return kwargs"
   ]
  },
  {
   "cell_type": "code",
   "execution_count": 31,
   "id": "1e72fa65-9d13-41d8-b6dd-c8ed61182d10",
   "metadata": {},
   "outputs": [
    {
     "data": {
      "text/plain": [
       "{'a': (2+3j), 'b': [2, 9, 3], 'c': 'pwskills'}"
      ]
     },
     "execution_count": 31,
     "metadata": {},
     "output_type": "execute_result"
    }
   ],
   "source": [
    "test2(a = 2+3j, b = [2,9,3], c= \"pwskills\")"
   ]
  },
  {
   "cell_type": "code",
   "execution_count": null,
   "id": "76d51ae1-9cba-4f5f-b032-cda2b3a349d8",
   "metadata": {},
   "outputs": [],
   "source": []
  },
  {
   "cell_type": "code",
   "execution_count": null,
   "id": "7c7b03b7-35d3-4a22-92ed-cef7eeb4370c",
   "metadata": {},
   "outputs": [],
   "source": [
    "#Q3. What is an iterator in python? \n",
    "#Name the method used to initialise the iterator object and the method used for iteration. \n",
    "#Use these methods to print the first five elements of the given list [2, 4, 6, 8, 10, 12, 14, 16, 18, 20]."
   ]
  },
  {
   "cell_type": "code",
   "execution_count": null,
   "id": "e4768a25-8213-4657-9af5-3fa5a9c9be17",
   "metadata": {},
   "outputs": [],
   "source": [
    "#solution3:"
   ]
  },
  {
   "cell_type": "code",
   "execution_count": null,
   "id": "6b608cc8-c714-4b6c-a4bd-3a1e6a39552a",
   "metadata": {},
   "outputs": [],
   "source": [
    "##  A Python object which can be looped over or iterated over in a loop. It is an iterator is an object that can be iterated upon.\n",
    "##  Examples of iterables include lists, sets, tuples, dictionaries, strings, etc. "
   ]
  },
  {
   "cell_type": "code",
   "execution_count": null,
   "id": "c828faa2-2ebf-46ce-9f25-997a8b926009",
   "metadata": {},
   "outputs": [],
   "source": []
  },
  {
   "cell_type": "code",
   "execution_count": 1,
   "id": "771bc0fa-d14c-4c8f-8d09-2fb7cbb80650",
   "metadata": {},
   "outputs": [],
   "source": [
    "Lst = [2, 4, 6, 8, 10, 12, 14, 16, 18, 20]"
   ]
  },
  {
   "cell_type": "code",
   "execution_count": 3,
   "id": "c43b9893-76ed-40e8-bbc6-319521049a16",
   "metadata": {},
   "outputs": [
    {
     "name": "stdout",
     "output_type": "stream",
     "text": [
      "2\n",
      "4\n",
      "6\n",
      "8\n",
      "10\n",
      "12\n",
      "14\n",
      "16\n",
      "18\n",
      "20\n"
     ]
    }
   ],
   "source": [
    "for i in Lst:\n",
    "    print(i)"
   ]
  },
  {
   "cell_type": "code",
   "execution_count": 4,
   "id": "36511b37-803e-4e28-b886-6bfef78eed48",
   "metadata": {},
   "outputs": [],
   "source": [
    "Lst1 = iter(Lst)"
   ]
  },
  {
   "cell_type": "code",
   "execution_count": 5,
   "id": "131d2673-cac9-4256-b706-b5ae993409e5",
   "metadata": {},
   "outputs": [
    {
     "data": {
      "text/plain": [
       "list_iterator"
      ]
     },
     "execution_count": 5,
     "metadata": {},
     "output_type": "execute_result"
    }
   ],
   "source": [
    "type(Lst1)"
   ]
  },
  {
   "cell_type": "code",
   "execution_count": 6,
   "id": "db0ec6cd-91c7-4a7d-83f3-c6d57469cc9a",
   "metadata": {},
   "outputs": [
    {
     "data": {
      "text/plain": [
       "2"
      ]
     },
     "execution_count": 6,
     "metadata": {},
     "output_type": "execute_result"
    }
   ],
   "source": [
    "next(Lst1)"
   ]
  },
  {
   "cell_type": "code",
   "execution_count": 7,
   "id": "9ad24044-671a-4634-8bb6-94a8d3c5b80f",
   "metadata": {},
   "outputs": [
    {
     "data": {
      "text/plain": [
       "4"
      ]
     },
     "execution_count": 7,
     "metadata": {},
     "output_type": "execute_result"
    }
   ],
   "source": [
    "next(Lst1)"
   ]
  },
  {
   "cell_type": "code",
   "execution_count": 8,
   "id": "c015ad4f-a074-45b9-a212-9e54bacdc6c9",
   "metadata": {},
   "outputs": [
    {
     "data": {
      "text/plain": [
       "6"
      ]
     },
     "execution_count": 8,
     "metadata": {},
     "output_type": "execute_result"
    }
   ],
   "source": [
    "next(Lst1)"
   ]
  },
  {
   "cell_type": "code",
   "execution_count": 9,
   "id": "cc78c07d-f1c7-4f3f-a4e6-a62e6dd57d2a",
   "metadata": {},
   "outputs": [
    {
     "data": {
      "text/plain": [
       "8"
      ]
     },
     "execution_count": 9,
     "metadata": {},
     "output_type": "execute_result"
    }
   ],
   "source": [
    "next(Lst1)"
   ]
  },
  {
   "cell_type": "code",
   "execution_count": 10,
   "id": "e9ebe8e5-9309-4154-a4ca-084a9f7bd99c",
   "metadata": {},
   "outputs": [
    {
     "data": {
      "text/plain": [
       "10"
      ]
     },
     "execution_count": 10,
     "metadata": {},
     "output_type": "execute_result"
    }
   ],
   "source": [
    "next(Lst1)"
   ]
  },
  {
   "cell_type": "code",
   "execution_count": 11,
   "id": "c3c02c8e-6577-4a81-93bc-a994f8b83f4b",
   "metadata": {},
   "outputs": [
    {
     "data": {
      "text/plain": [
       "12"
      ]
     },
     "execution_count": 11,
     "metadata": {},
     "output_type": "execute_result"
    }
   ],
   "source": [
    "next(Lst1)"
   ]
  },
  {
   "cell_type": "code",
   "execution_count": 12,
   "id": "1ce832c5-ecef-4e78-854a-33c3fef0a99c",
   "metadata": {},
   "outputs": [
    {
     "data": {
      "text/plain": [
       "14"
      ]
     },
     "execution_count": 12,
     "metadata": {},
     "output_type": "execute_result"
    }
   ],
   "source": [
    "next(Lst1)"
   ]
  },
  {
   "cell_type": "code",
   "execution_count": 13,
   "id": "1259cbf7-6a4d-450c-9721-e65b7025ea4b",
   "metadata": {},
   "outputs": [
    {
     "data": {
      "text/plain": [
       "16"
      ]
     },
     "execution_count": 13,
     "metadata": {},
     "output_type": "execute_result"
    }
   ],
   "source": [
    "next(Lst1)"
   ]
  },
  {
   "cell_type": "code",
   "execution_count": 14,
   "id": "74b2a95d-f262-4dcd-82d3-26ae25d715ef",
   "metadata": {},
   "outputs": [
    {
     "data": {
      "text/plain": [
       "18"
      ]
     },
     "execution_count": 14,
     "metadata": {},
     "output_type": "execute_result"
    }
   ],
   "source": [
    "next(Lst1)"
   ]
  },
  {
   "cell_type": "code",
   "execution_count": 15,
   "id": "9eddaa1e-2289-4b34-90d4-54298df74cf0",
   "metadata": {},
   "outputs": [
    {
     "data": {
      "text/plain": [
       "20"
      ]
     },
     "execution_count": 15,
     "metadata": {},
     "output_type": "execute_result"
    }
   ],
   "source": [
    "next(Lst1)"
   ]
  },
  {
   "cell_type": "code",
   "execution_count": null,
   "id": "1caa7aa1-ee91-4e51-9e81-f4ec962bd1ce",
   "metadata": {},
   "outputs": [],
   "source": []
  },
  {
   "cell_type": "code",
   "execution_count": null,
   "id": "5531acb0-cf4d-4b45-9f48-70434f982600",
   "metadata": {},
   "outputs": [],
   "source": [
    "# Q4.  What is a generator function in python? Why yield keyword is used? Give an example of a generator function."
   ]
  },
  {
   "cell_type": "code",
   "execution_count": null,
   "id": "dc03f24a-e4a0-4a34-ae48-eacb1d00f01d",
   "metadata": {},
   "outputs": [],
   "source": [
    "#solution4:"
   ]
  },
  {
   "cell_type": "code",
   "execution_count": null,
   "id": "bab4d295-10d6-47d8-8238-b937631b8fe3",
   "metadata": {},
   "outputs": [],
   "source": [
    "## A Python generator function allows to declare a function that behaves like an iterator, providing a faster and easier way to create iterators.\n",
    "## They can be used on an abstract container of data to turn it into an iterable object like lists, dictionaries and strings."
   ]
  },
  {
   "cell_type": "code",
   "execution_count": null,
   "id": "fc9cdefa-21fb-4107-bcfa-f3a47ff3801d",
   "metadata": {},
   "outputs": [],
   "source": [
    "## The yield keyword will convert an expression that is specified along with it to a generator object and return it to the caller."
   ]
  },
  {
   "cell_type": "code",
   "execution_count": 3,
   "id": "cfde37fc-7f67-49c0-9b5d-7c58270d5ab5",
   "metadata": {},
   "outputs": [],
   "source": [
    "def multiply_by_2(n):\n",
    "    a = 2\n",
    "    for i in range(n):\n",
    "        yield a\n",
    "        a = a*2"
   ]
  },
  {
   "cell_type": "code",
   "execution_count": 21,
   "id": "6f4f777b-987e-4f32-99ca-f64232e696a0",
   "metadata": {},
   "outputs": [],
   "source": [
    "multiply = multiply_by_2(5)"
   ]
  },
  {
   "cell_type": "code",
   "execution_count": 4,
   "id": "bbde7fc9-d82a-4d96-87b9-54af1d7c08ee",
   "metadata": {},
   "outputs": [
    {
     "name": "stdout",
     "output_type": "stream",
     "text": [
      "2\n",
      "4\n",
      "8\n",
      "16\n",
      "32\n"
     ]
    }
   ],
   "source": [
    "for i in multiply_by_2(5):\n",
    "    print(i)"
   ]
  },
  {
   "cell_type": "code",
   "execution_count": null,
   "id": "35183430-ad88-491c-9c60-82c7512c8d6f",
   "metadata": {},
   "outputs": [],
   "source": []
  },
  {
   "cell_type": "code",
   "execution_count": null,
   "id": "608a167a-bdb2-4137-9902-4d6b6965b96b",
   "metadata": {},
   "outputs": [],
   "source": [
    "# Q5. Create a generator function for prime numbers less than 1000. Use the next() method to print the first 20 prime numbers."
   ]
  },
  {
   "cell_type": "code",
   "execution_count": null,
   "id": "4010cd20-4428-4f47-b155-e1ae9d5ddad6",
   "metadata": {},
   "outputs": [],
   "source": [
    "#solution5:"
   ]
  },
  {
   "cell_type": "code",
   "execution_count": 53,
   "id": "27f3cd6a-302a-4e58-94df-95f1efd883d4",
   "metadata": {},
   "outputs": [
    {
     "name": "stdout",
     "output_type": "stream",
     "text": [
      "2\n",
      "3\n",
      "5\n",
      "7\n",
      "11\n",
      "13\n",
      "17\n",
      "19\n",
      "23\n",
      "29\n",
      "31\n",
      "37\n",
      "41\n",
      "43\n",
      "47\n",
      "53\n",
      "59\n",
      "61\n",
      "67\n",
      "71\n"
     ]
    }
   ],
   "source": [
    "def prime_no_test():\n",
    "    yield 2 \n",
    "    prime_no = [2]\n",
    "    num = 3\n",
    "\n",
    "    while prime_no[-1] <= 1000:\n",
    "        is_prime = True\n",
    "\n",
    "        for prime in prime_no:\n",
    "            if num % prime == 0:\n",
    "                is_prime = False\n",
    "                break\n",
    "\n",
    "        if is_prime:\n",
    "            yield num\n",
    "            prime_no.append(num)\n",
    "\n",
    "        num += 2\n",
    "prime_gen = prime_no_test()\n",
    "\n",
    "for i in range(20):\n",
    "    prime = next(prime_gen)\n",
    "    print(prime)"
   ]
  },
  {
   "cell_type": "code",
   "execution_count": null,
   "id": "17116bc1-6da2-4f88-b94b-2e1089d0400a",
   "metadata": {},
   "outputs": [],
   "source": []
  },
  {
   "cell_type": "code",
   "execution_count": null,
   "id": "035dc70d-3322-40d9-b5cf-121db445dee9",
   "metadata": {},
   "outputs": [],
   "source": [
    "# Q6. Write a python program to print the first 10 Fibonacci numbers using a while loop."
   ]
  },
  {
   "cell_type": "code",
   "execution_count": null,
   "id": "72cdabe7-5473-4ad9-b388-93eee58a33f8",
   "metadata": {},
   "outputs": [],
   "source": [
    "# solution6:"
   ]
  },
  {
   "cell_type": "code",
   "execution_count": 40,
   "id": "84421dd6-cd7c-4ea9-9edd-dc70d162b5ce",
   "metadata": {},
   "outputs": [],
   "source": [
    "def test_fibonacci():\n",
    "    a,b = 0,1\n",
    "    while True: \n",
    "        yield a\n",
    "        a,b = b , a+b"
   ]
  },
  {
   "cell_type": "code",
   "execution_count": 41,
   "id": "3d5fffe3-db95-464f-b3ff-6d869bc1069b",
   "metadata": {},
   "outputs": [],
   "source": [
    "fibo = test_fibonacci()"
   ]
  },
  {
   "cell_type": "code",
   "execution_count": 42,
   "id": "e7ee8621-7515-433b-ade6-801cf321a17d",
   "metadata": {},
   "outputs": [
    {
     "name": "stdout",
     "output_type": "stream",
     "text": [
      "0\n",
      "1\n",
      "1\n",
      "2\n",
      "3\n",
      "5\n",
      "8\n",
      "13\n",
      "21\n",
      "34\n"
     ]
    }
   ],
   "source": [
    "for i in range(10):\n",
    "    print(next(fibo))"
   ]
  },
  {
   "cell_type": "code",
   "execution_count": null,
   "id": "97b875d2-9ebd-47cf-956c-dcb521947be1",
   "metadata": {},
   "outputs": [],
   "source": []
  },
  {
   "cell_type": "code",
   "execution_count": null,
   "id": "f0c5ab62-ad87-4058-b113-39a5fa7610c2",
   "metadata": {},
   "outputs": [],
   "source": [
    "# Q7. Write a List Comprehension to iterate through the given string: ‘pwskills’.\n",
    "# Expected output: ['p', 'w', 's', 'k', 'i', 'l', 'l', 's'] "
   ]
  },
  {
   "cell_type": "code",
   "execution_count": null,
   "id": "049cd89b-8d4b-4e8a-bc92-f94e5a0a9b01",
   "metadata": {},
   "outputs": [],
   "source": [
    "# solution7:"
   ]
  },
  {
   "cell_type": "code",
   "execution_count": 32,
   "id": "0f8bd4b6-5174-4f76-b7fc-d1d10fc8f9ec",
   "metadata": {},
   "outputs": [],
   "source": [
    "p = \"pwskills\""
   ]
  },
  {
   "cell_type": "code",
   "execution_count": 33,
   "id": "e8870145-59dc-4199-9066-78572722c7de",
   "metadata": {},
   "outputs": [
    {
     "name": "stdout",
     "output_type": "stream",
     "text": [
      "p\n",
      "w\n",
      "s\n",
      "k\n",
      "i\n",
      "l\n",
      "l\n",
      "s\n"
     ]
    }
   ],
   "source": [
    "for i in p:\n",
    "    print(i)"
   ]
  },
  {
   "cell_type": "code",
   "execution_count": 34,
   "id": "21225efc-6cd7-425c-b1d4-3885c22d0cc4",
   "metadata": {},
   "outputs": [],
   "source": [
    "listp = iter(p)"
   ]
  },
  {
   "cell_type": "code",
   "execution_count": 35,
   "id": "58df86f2-b325-4093-a51c-4a197bac13fb",
   "metadata": {},
   "outputs": [],
   "source": [
    "def p():\n",
    "    print(list(listp))"
   ]
  },
  {
   "cell_type": "code",
   "execution_count": 36,
   "id": "39e9253c-05d5-4e2e-8581-99683810a0f4",
   "metadata": {},
   "outputs": [
    {
     "name": "stdout",
     "output_type": "stream",
     "text": [
      "['p', 'w', 's', 'k', 'i', 'l', 'l', 's']\n"
     ]
    }
   ],
   "source": [
    "p()"
   ]
  },
  {
   "cell_type": "code",
   "execution_count": null,
   "id": "021429ef-fe29-45f3-9c91-d47fb8e680d7",
   "metadata": {},
   "outputs": [],
   "source": []
  },
  {
   "cell_type": "code",
   "execution_count": null,
   "id": "977a824c-f568-45da-8bce-294f40c5e072",
   "metadata": {},
   "outputs": [],
   "source": [
    "# Q8. Write a python program to check whether a given number is Palindrome or not using a while loop."
   ]
  },
  {
   "cell_type": "code",
   "execution_count": null,
   "id": "8f649aea-3657-4129-a7c2-81f2df6c7f16",
   "metadata": {},
   "outputs": [],
   "source": [
    "# solution8:"
   ]
  },
  {
   "cell_type": "code",
   "execution_count": 51,
   "id": "d954ac8c-70fa-47c4-a727-d7d499168191",
   "metadata": {},
   "outputs": [
    {
     "name": "stdin",
     "output_type": "stream",
     "text": [
      "Enter any number: 146141\n"
     ]
    },
    {
     "name": "stdout",
     "output_type": "stream",
     "text": [
      "Not a Palindrome!\n"
     ]
    }
   ],
   "source": [
    "num=int(input(\"Enter any number:\"))\n",
    "temp=num\n",
    "rev=0\n",
    "while(num>0):\n",
    "    dig=num%10\n",
    "    rev=rev*10+dig\n",
    "    num=num//10\n",
    "if(temp==rev):\n",
    "    print(\"The {0} number is Palindrome!\".format(temp))\n",
    "else:\n",
    "    print(\"Not a Palindrome!\")"
   ]
  },
  {
   "cell_type": "code",
   "execution_count": null,
   "id": "101bdfcf-11bb-4019-91c3-de0a5ad80617",
   "metadata": {},
   "outputs": [],
   "source": []
  },
  {
   "cell_type": "code",
   "execution_count": null,
   "id": "252093b5-53d7-4cfe-8f9f-bd18d9322544",
   "metadata": {},
   "outputs": [],
   "source": [
    "# Q9. Write a code to print odd numbers from 1 to 100 using list comprehension.\n",
    "\n",
    "#Note: Use a list comprehension to create a list from 1 to 100 and use another List comprehension to filter out odd numbers."
   ]
  },
  {
   "cell_type": "code",
   "execution_count": 43,
   "id": "b4999366-937e-435b-aa90-77e383d66f4b",
   "metadata": {},
   "outputs": [],
   "source": [
    "#solution9:"
   ]
  },
  {
   "cell_type": "code",
   "execution_count": 68,
   "id": "050f19e3-cec0-4c1c-9284-c2db7e42ae4d",
   "metadata": {},
   "outputs": [
    {
     "name": "stdout",
     "output_type": "stream",
     "text": [
      "[1, 2, 3, 4, 5, 6, 7, 8, 9, 10, 11, 12, 13, 14, 15, 16, 17, 18, 19, 20, 21, 22, 23, 24, 25, 26, 27, 28, 29, 30, 31, 32, 33, 34, 35, 36, 37, 38, 39, 40, 41, 42, 43, 44, 45, 46, 47, 48, 49, 50, 51, 52, 53, 54, 55, 56, 57, 58, 59, 60, 61, 62, 63, 64, 65, 66, 67, 68, 69, 70, 71, 72, 73, 74, 75, 76, 77, 78, 79, 80, 81, 82, 83, 84, 85, 86, 87, 88, 89, 90, 91, 92, 93, 94, 95, 96, 97, 98, 99, 100]\n"
     ]
    }
   ],
   "source": [
    "number_list = [ x for x in range(1,101)]\n",
    "print(number_list)"
   ]
  },
  {
   "cell_type": "code",
   "execution_count": 73,
   "id": "5fef98ff-8f12-4b2b-8606-fe562f1aa53d",
   "metadata": {},
   "outputs": [
    {
     "name": "stdout",
     "output_type": "stream",
     "text": [
      "[1, 3, 5, 7, 9, 11, 13, 15, 17, 19, 21, 23, 25, 27, 29, 31, 33, 35, 37, 39, 41, 43, 45, 47, 49, 51, 53, 55, 57, 59, 61, 63, 65, 67, 69, 71, 73, 75, 77, 79, 81, 83, 85, 87, 89, 91, 93, 95, 97, 99]\n"
     ]
    }
   ],
   "source": [
    "odd = [x for x in range(1,101) if x%2 != 0]\n",
    "print(odd)"
   ]
  },
  {
   "cell_type": "code",
   "execution_count": null,
   "id": "9be37d84-06b0-4bbd-86b2-e49611577ed4",
   "metadata": {},
   "outputs": [],
   "source": []
  },
  {
   "cell_type": "code",
   "execution_count": null,
   "id": "18596cdb-1e7f-4d3c-9444-e4ee4b5ef7c5",
   "metadata": {},
   "outputs": [],
   "source": []
  },
  {
   "cell_type": "code",
   "execution_count": null,
   "id": "d760b357-9c3f-4ddc-82ff-53fcd9116fdf",
   "metadata": {},
   "outputs": [],
   "source": []
  },
  {
   "cell_type": "code",
   "execution_count": null,
   "id": "466d7731-32b0-421b-b23f-010e875292f8",
   "metadata": {},
   "outputs": [],
   "source": []
  },
  {
   "cell_type": "code",
   "execution_count": null,
   "id": "25cf0d7f-45a8-4b9f-abd6-5c8c781808b9",
   "metadata": {},
   "outputs": [],
   "source": []
  },
  {
   "cell_type": "code",
   "execution_count": null,
   "id": "d88564ee-30bd-4a3e-a238-41703d948ccf",
   "metadata": {},
   "outputs": [],
   "source": []
  },
  {
   "cell_type": "code",
   "execution_count": null,
   "id": "033a1435-346f-46f8-b983-d2cb86993b22",
   "metadata": {},
   "outputs": [],
   "source": []
  },
  {
   "cell_type": "code",
   "execution_count": null,
   "id": "5afc17ef-03e7-4b05-9e7e-5b088b2aeb38",
   "metadata": {},
   "outputs": [],
   "source": []
  },
  {
   "cell_type": "code",
   "execution_count": null,
   "id": "e7a551ee-8717-4e35-bea6-9d45ba612fa5",
   "metadata": {},
   "outputs": [],
   "source": []
  },
  {
   "cell_type": "code",
   "execution_count": null,
   "id": "39258a5f-70bf-4478-a349-57b68c928162",
   "metadata": {},
   "outputs": [],
   "source": []
  },
  {
   "cell_type": "code",
   "execution_count": null,
   "id": "a354879f-bf40-43c7-8edb-5abd65928469",
   "metadata": {},
   "outputs": [],
   "source": []
  },
  {
   "cell_type": "code",
   "execution_count": null,
   "id": "096ea28e-bce1-4766-8911-b93703bad0cf",
   "metadata": {},
   "outputs": [],
   "source": []
  },
  {
   "cell_type": "code",
   "execution_count": null,
   "id": "edf380bb-7d17-4a94-a094-1c76bd62d328",
   "metadata": {},
   "outputs": [],
   "source": []
  },
  {
   "cell_type": "code",
   "execution_count": null,
   "id": "615f66a5-d773-46b3-a067-8d27e8caf7d4",
   "metadata": {},
   "outputs": [],
   "source": []
  },
  {
   "cell_type": "code",
   "execution_count": null,
   "id": "dd38c1c0-0f69-4d6d-9e3a-0f493dfb5ee4",
   "metadata": {},
   "outputs": [],
   "source": []
  }
 ],
 "metadata": {
  "kernelspec": {
   "display_name": "Python 3 (ipykernel)",
   "language": "python",
   "name": "python3"
  },
  "language_info": {
   "codemirror_mode": {
    "name": "ipython",
    "version": 3
   },
   "file_extension": ".py",
   "mimetype": "text/x-python",
   "name": "python",
   "nbconvert_exporter": "python",
   "pygments_lexer": "ipython3",
   "version": "3.10.8"
  }
 },
 "nbformat": 4,
 "nbformat_minor": 5
}
